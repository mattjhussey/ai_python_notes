{
 "cells": [
  {
   "cell_type": "markdown",
   "metadata": {},
   "source": [
    "# Artificial Intelligence and Machine Learning Notes\n",
    "Data science process flow:\n",
    "1. Gather\n",
    "2. Transform & Clean\n",
    "3. Explore/Visualise\n",
    "4. Analyse & Predict\n"
   ]
  },
  {
   "cell_type": "markdown",
   "metadata": {},
   "source": [
    "## Seaborn\n",
    "Seaborn is a library that can create plots of data"
   ]
  },
  {
   "cell_type": "code",
   "execution_count": 2,
   "metadata": {},
   "outputs": [
    {
     "data": {
      "image/png": "[encoded data removed]",
      "text/plain": [
       "<Figure size 432x288 with 1 Axes>"
      ]
     },
     "metadata": {
      "needs_background": "light"
     },
     "output_type": "display_data"
    }
   ],
   "source": [
    "### Scatter plot\n",
    "import seaborn as sns\n",
    "import matplotlib.pyplot as plt\n",
    "height = [62, 64, 69, 75, 66, 68, 65, 71, 76, 73]\n",
    "weight = [120, 136, 148, 175, 137, 165, 154, 172, 200, 187]\n",
    "sns.scatterplot(x=height, y=weight)\n",
    "plt.show()"
   ]
  },
  {
   "cell_type": "code",
   "execution_count": 16,
   "metadata": {},
   "outputs": [
    {
     "data": {
      "image/png": "[encoded data removed]",
      "text/plain": [
       "<Figure size 432x288 with 1 Axes>"
      ]
     },
     "metadata": {
      "needs_background": "light"
     },
     "output_type": "display_data"
    }
   ],
   "source": [
    "### Count plot\n",
    "import seaborn as sns\n",
    "import matplotlib.pyplot as plt\n",
    "gender = [\"Female\", \"Female\", \"Female\", \"Female\", \"Male\", \"Male\", \"Male\", \"Male\", \"Male\", \"Male\"]\n",
    "sns.countplot(x=gender)\n",
    "plt.show()"
   ]
  },
  {
   "cell_type": "markdown",
   "metadata": {},
   "source": [
    "## Pandas\n",
    "Pandas is a data analysis library for reading and manipulating data.\n",
    "Data is imported as from file to `DataFrame` objects."
   ]
  },
  {
   "cell_type": "code",
   "execution_count": 19,
   "metadata": {},
   "outputs": [
    {
     "name": "stdout",
     "output_type": "stream",
     "text": [
      "   participant_id      age how_masculine how_important\n",
      "0               1  18 - 34      Somewhat      Somewhat\n",
      "1               2  18 - 34      Somewhat      Somewhat\n",
      "2               3  18 - 34          Very      Not very\n",
      "3               4  18 - 34          Very      Not very\n",
      "4               5  18 - 34          Very          Very\n"
     ]
    },
    {
     "data": {
      "image/png": "[encoded data removed]",
      "text/plain": [
       "<Figure size 432x288 with 1 Axes>"
      ]
     },
     "metadata": {
      "needs_background": "light"
     },
     "output_type": "display_data"
    }
   ],
   "source": [
    "import pandas as pd\n",
    "df = pd.read_csv(\"masculinity.csv\")\n",
    "\n",
    "### View the contained data\n",
    "print(df.head())\n",
    "\n",
    "import matplotlib.pyplot as plt\n",
    "import seaborn as sns\n",
    "\n",
    "### Display the data in a seaborn plot\n",
    "sns.countplot(x=\"how_masculine\", data=df)\n",
    "plt.show()"
   ]
  },
  {
   "cell_type": "markdown",
   "metadata": {},
   "source": [
    "# Glossary"
   ]
  }
 ],
 "metadata": {
  "interpreter": {
   "hash": "bb7566dc950a1ee2a2245ef2ca5466d28d963ee8cd4a54e72cb158e94f084c0f"
  },
  "kernelspec": {
   "display_name": "Python 3.10.5 ('jupyter')",
   "language": "python",
   "name": "python3"
  },
  "language_info": {
   "codemirror_mode": {
    "name": "ipython",
    "version": 3
   },
   "file_extension": ".py",
   "mimetype": "text/x-python",
   "name": "python",
   "nbconvert_exporter": "python",
   "pygments_lexer": "ipython3",
   "version": "3.10.5"
  },
  "orig_nbformat": 4
 },
 "nbformat": 4,
 "nbformat_minor": 2
}
